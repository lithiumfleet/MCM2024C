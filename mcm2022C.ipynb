{
 "cells": [
  {
   "cell_type": "code",
   "execution_count": null,
   "metadata": {},
   "outputs": [],
   "source": [
    "# from statsmodels.tsa.arima.model import ARIMA\n",
    "# gold = [1,1,1,2,1,2,2,2,2,2,1,2,3,3,3,3,2,3,3,4,3,4]\n",
    "# model = ARIMA(endog=gold, order=(2,1,2))\n",
    "# res = model.fit()\n",
    "# print(res.forecast(20))"
   ]
  },
  {
   "cell_type": "code",
   "execution_count": null,
   "metadata": {},
   "outputs": [],
   "source": [
    "from pandas import read_csv, concat, DataFrame\n",
    "from numpy import nan\n",
    "from tqdm import trange"
   ]
  },
  {
   "cell_type": "code",
   "execution_count": null,
   "metadata": {},
   "outputs": [],
   "source": [
    "gold_csv = read_csv(\"./2022c/data/LBMA-GOLD.csv\")\n",
    "bit_csv = read_csv(\"./2022c/data/BCHAIN-MKPRU.csv\")"
   ]
  },
  {
   "cell_type": "code",
   "execution_count": null,
   "metadata": {},
   "outputs": [],
   "source": [
    "time_df = bit_csv[\"Date\"]\n",
    "time_df.head()\n",
    "time_array = time_df.to_list()  # 时间ndarray\n"
   ]
  },
  {
   "cell_type": "code",
   "execution_count": null,
   "metadata": {},
   "outputs": [],
   "source": [
    "# 对比需要插值的地方\n",
    "print(time_array[:15], \"\\n\", gold_csv[\"Date\"].to_list()[:15])\n",
    "# 需要插值的位置: 0, 6, 13 --> 不行, 不一定是双修"
   ]
  },
  {
   "cell_type": "code",
   "execution_count": null,
   "metadata": {},
   "outputs": [],
   "source": [
    "# 获取黄金价格, 并插值\n",
    "days_need_to_fill_nan = set(time_array) - set(gold_csv[\"Date\"].tolist())\n",
    "# days_need_to_fill_from_csv = set(gold_csv[\"Date\"].tolist())\n",
    "len(days_need_to_fill_nan)"
   ]
  },
  {
   "cell_type": "code",
   "execution_count": null,
   "metadata": {},
   "outputs": [],
   "source": [
    "gold_df_with_nan = bit_csv.copy()\n",
    "for i,j in enumerate(time_array):\n",
    "    if j in days_need_to_fill_nan:\n",
    "        idx = gold_df_with_nan[gold_df_with_nan[\"Date\"]==j].index.values[0]\n",
    "        gold_df_with_nan[\"Value\"][idx] = nan\n",
    "    else:\n",
    "        gold_df_with_nan[\"Value\"][i] = gold_csv[gold_csv[\"Date\"]==j][\"USD (PM)\"]\n",
    "    \n",
    "gold_df_with_nan.head(20)"
   ]
  },
  {
   "cell_type": "code",
   "execution_count": null,
   "metadata": {},
   "outputs": [],
   "source": [
    "gold_df_with_nan[\"Value\"].interpolate(inplace=True)"
   ]
  },
  {
   "cell_type": "code",
   "execution_count": null,
   "metadata": {},
   "outputs": [],
   "source": [
    "gold_df_with_nan.loc[0]['Value'] = 1300\n",
    "gold_df_with_nan.head(20)\n",
    "gold_df_preprocessed = gold_df_with_nan.copy()"
   ]
  },
  {
   "cell_type": "code",
   "execution_count": null,
   "metadata": {},
   "outputs": [],
   "source": [
    "import matplotlib.pyplot as plt\n",
    "plt.plot(gold_df_preprocessed['Value'])"
   ]
  },
  {
   "cell_type": "code",
   "execution_count": null,
   "metadata": {},
   "outputs": [],
   "source": [
    "from statsmodels.tsa.arima.model import ARIMA\n",
    "max_time_step = len(gold_df_preprocessed['Value'].to_list())\n",
    "gold_price = gold_df_preprocessed['Value'].tolist()\n",
    "start = 1000\n",
    "window_size = 5\n",
    "history = gold_price[:start]\n",
    "predictions = []\n",
    "for i in trange(start,len(gold_price)):\n",
    "    try:\n",
    "        history.append(gold_price[i])\n",
    "        model = ARIMA(endog=history[-window_size:], order=(2,1,2)).fit()\n",
    "        output = model.forecast()[0]\n",
    "        predictions.append(output+50)\n",
    "    except:\n",
    "        print(\"LU error!\")\n",
    "        continue\n",
    "plt.plot(gold_price, color='blue')\n",
    "plt.plot(gold_price[:start] + predictions, color='red')\n",
    "plt.show()"
   ]
  },
  {
   "cell_type": "code",
   "execution_count": null,
   "metadata": {},
   "outputs": [],
   "source": [
    "model.summary()"
   ]
  },
  {
   "cell_type": "code",
   "execution_count": null,
   "metadata": {},
   "outputs": [],
   "source": [
    "max_time_step"
   ]
  },
  {
   "cell_type": "code",
   "execution_count": null,
   "metadata": {},
   "outputs": [],
   "source": []
  }
 ],
 "metadata": {
  "kernelspec": {
   "display_name": ".env",
   "language": "python",
   "name": "python3"
  },
  "language_info": {
   "codemirror_mode": {
    "name": "ipython",
    "version": 3
   },
   "file_extension": ".py",
   "mimetype": "text/x-python",
   "name": "python",
   "nbconvert_exporter": "python",
   "pygments_lexer": "ipython3",
   "version": "3.11.3"
  }
 },
 "nbformat": 4,
 "nbformat_minor": 2
}
