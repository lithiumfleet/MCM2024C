{
 "cells": [
  {
   "cell_type": "code",
   "execution_count": 11,
   "metadata": {},
   "outputs": [],
   "source": [
    "import os"
   ]
  },
  {
   "cell_type": "code",
   "execution_count": 12,
   "metadata": {},
   "outputs": [
    {
     "data": {
      "text/plain": [
       "8473"
      ]
     },
     "execution_count": 12,
     "metadata": {},
     "output_type": "execute_result"
    }
   ],
   "source": [
    "with open(\"./新建.txt\") as f:\n",
    "    content = f.readlines()\n",
    "\n",
    "len(content)"
   ]
  },
  {
   "cell_type": "code",
   "execution_count": 13,
   "metadata": {},
   "outputs": [],
   "source": [
    "def add(s, ads=0):\n",
    "    # 1\\t2\n",
    "    if '\\t' in s: return chr(ord(s.split()[0])+1+ads) + '\\t' + chr(ord(s.split()[1])+1+ads) + '\\n'\n",
    "\n",
    "# print(content[5])\n",
    "# for i,j in enumerate(content[5].split('\\n')):\n",
    "#     if i == 0: continue\n",
    "#     if i > 6: break\n",
    "#     print(j, add(j))\n",
    "#     print(\"-\"*10)"
   ]
  },
  {
   "cell_type": "code",
   "execution_count": 18,
   "metadata": {},
   "outputs": [],
   "source": [
    "\n",
    "i = 1\n",
    "addflag = False \n",
    "ads = 0\n",
    "while i < len(content):\n",
    "    if '-' in content[i]:\n",
    "        addflag = False\n",
    "        ads = 0\n",
    "    elif 'AD' in content[i] and addflag == False:\n",
    "        addflag = True\n",
    "        content[i] = content[i].replace('AD', '4')\n",
    "    else:\n",
    "        if addflag:\n",
    "            if 'AD' in content[i]:\n",
    "                ads += 1\n",
    "                if str(content[i].strip().split('\\t')[-1]).isdigit():\n",
    "                    content[i] = str(int(content[i].strip().split('\\t')[-1])+1+ads) + '\\t'+chr(ord(content[i].strip().split('\\t')[-1])+ads)+'\\n'\n",
    "                else:\n",
    "                    content[i] = chr(ord(content[i].strip().split('\\t')[0])+ads)+ '\\t' + str(int(content[i].strip().split('\\t')[0])+1+ads)+'\\n'\n",
    "                assert content[i].split()[0].isdigit() and content[i].split()[1].isdigit() , 'here {}'.format(content[i])\n",
    "\n",
    "            else:\n",
    "                content[i] = add(content[i],ads)\n",
    "\n",
    "\n",
    "    i += 1"
   ]
  },
  {
   "cell_type": "code",
   "execution_count": 19,
   "metadata": {},
   "outputs": [],
   "source": [
    "with open('newfile.txt', 'w') as f:\n",
    "    f.writelines(content)"
   ]
  },
  {
   "cell_type": "code",
   "execution_count": 28,
   "metadata": {},
   "outputs": [],
   "source": [
    "# 手动正则后 再检查\n",
    "# in 4069: 10, 9\n",
    "with open('newfile.txt') as f:\n",
    "    for i, j in enumerate(f.readlines()):\n",
    "        if i == 0: continue\n",
    "        if bool(j.strip()):\n",
    "            assert ''.join(j.strip().split('\\t')).isnumeric(), \"[{}]\".format(''.join(j.strip().split('\\t')))+ j + \"in {}\".format(i)"
   ]
  },
  {
   "cell_type": "code",
   "execution_count": null,
   "metadata": {},
   "outputs": [],
   "source": []
  }
 ],
 "metadata": {
  "kernelspec": {
   "display_name": "Python 3",
   "language": "python",
   "name": "python3"
  },
  "language_info": {
   "codemirror_mode": {
    "name": "ipython",
    "version": 3
   },
   "file_extension": ".py",
   "mimetype": "text/x-python",
   "name": "python",
   "nbconvert_exporter": "python",
   "pygments_lexer": "ipython3",
   "version": "3.11.3"
  }
 },
 "nbformat": 4,
 "nbformat_minor": 2
}
