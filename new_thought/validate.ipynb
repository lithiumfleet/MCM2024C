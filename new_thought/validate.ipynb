{
 "cells": [
  {
   "cell_type": "code",
   "execution_count": 2,
   "metadata": {},
   "outputs": [
    {
     "name": "stdout",
     "output_type": "stream",
     "text": [
      "0.6594943518020441 0.6873247335950645\n",
      "0.6734095426985542\n"
     ]
    }
   ],
   "source": [
    "# 发球因子\n",
    "import pandas as pd\n",
    "df = pd.read_csv('./data/df.csv').to_dict()\n",
    "cnt1 = 0\n",
    "cnt2 = 0\n",
    "win1 = 0\n",
    "win2 = 0\n",
    "for i,j in df['server'].items():\n",
    "    if df['point_victor'][i] == 1:\n",
    "        win1 += 1\n",
    "    if df['point_victor'][i] == 2:\n",
    "        win2 += 1\n",
    "    if df['point_victor'][i] == j == 1:\n",
    "        cnt1 += 1\n",
    "    if df['point_victor'][i] == j == 2:\n",
    "        cnt2 += 1\n",
    "print(cnt1/win1, cnt2/win2)\n",
    "print((cnt1/win1+cnt2/win2)/2)"
   ]
  },
  {
   "cell_type": "code",
   "execution_count": 21,
   "metadata": {},
   "outputs": [
    {
     "name": "stdout",
     "output_type": "stream",
     "text": [
      "\n",
      "result is\n",
      "(0.7638349122129025, 0.9910293888975986, 2, 297, {'1%': -3.4525611751768914, '5%': -2.87132117782556, '10%': -2.5719816428028888}, 411.41651880401463)\n",
      "\n",
      "result_fromat is\n",
      "Test Statistic                                                   0.763835\n",
      "p-value                                                          0.991029\n",
      "Lags Used                                                        2.000000\n",
      "Number of Observations Used                                    297.000000\n",
      "Critical Value (1%)                                             -3.452561\n",
      "Critical Value (5%)                                             -2.871321\n",
      "Critical Value (10%)                                            -2.571982\n",
      "The maximized information criterion if autolag is not None.    411.416519\n",
      "dtype: float64\n",
      "\n",
      "\n",
      "===== adfuller()的回归模型系数 =====\n",
      "r.resols.summary() is\n",
      "                            OLS Regression Results                            \n",
      "==============================================================================\n",
      "Dep. Variable:                      y   R-squared:                       0.046\n",
      "Model:                            OLS   Adj. R-squared:                  0.030\n",
      "Method:                 Least Squares   F-statistic:                     2.827\n",
      "Date:                Mon, 05 Feb 2024   Prob (F-statistic):             0.0164\n",
      "Time:                        05:39:08   Log-Likelihood:                -208.03\n",
      "No. Observations:                 297   AIC:                             428.1\n",
      "Df Residuals:                     291   BIC:                             450.2\n",
      "Df Model:                           5                                         \n",
      "Covariance Type:            nonrobust                                         \n",
      "==============================================================================\n",
      "                 coef    std err          t      P>|t|      [0.025      0.975]\n",
      "------------------------------------------------------------------------------\n",
      "x1            -0.0544      0.021     -2.627      0.009      -0.095      -0.014\n",
      "x2             0.0020      0.058      0.035      0.972      -0.113       0.117\n",
      "x3            -0.1177      0.058     -2.023      0.044      -0.232      -0.003\n",
      "const          0.6502      0.097      6.693      0.000       0.459       0.841\n",
      "x4             0.0262      0.010      2.567      0.011       0.006       0.046\n",
      "x5          8.424e-06   4.95e-06      1.702      0.090   -1.31e-06    1.82e-05\n",
      "==============================================================================\n",
      "Omnibus:                     1644.348   Durbin-Watson:                   1.985\n",
      "Prob(Omnibus):                  0.000   Jarque-Bera (JB):               40.913\n",
      "Skew:                          -0.102   Prob(JB):                     1.31e-09\n",
      "Kurtosis:                       1.193   Cond. No.                     1.40e+05\n",
      "==============================================================================\n",
      "\n",
      "Notes:\n",
      "[1] Standard Errors assume that the covariance matrix of the errors is correctly specified.\n",
      "[2] The condition number is large, 1.4e+05. This might indicate that there are\n",
      "strong multicollinearity or other numerical problems.\n",
      "\n",
      "r.resols.params are\n",
      "[-5.44369096e-02  2.04089553e-03 -1.17652948e-01  6.50190810e-01\n",
      "  2.62027819e-02  8.42399415e-06]\n"
     ]
    },
    {
     "data": {
      "image/png": "[encoded data removed]",
      "text/plain": [
       "<Figure size 640x480 with 1 Axes>"
      ]
     },
     "metadata": {},
     "output_type": "display_data"
    }
   ],
   "source": [
    "# ADF检验\n",
    "from statsmodels.tsa.stattools import adfuller\n",
    "import numpy as np\n",
    "from itertools import pairwise\n",
    "import pandas as pd\n",
    "import matplotlib.pyplot as plt\n",
    "\n",
    "df = pd.read_csv('./data/single_df.csv').to_dict()\n",
    "seq = [i for i in df['p1_points_won'].values()]\n",
    "# for _ in range(1):\n",
    "#     seq = [i-j for i,j in pairwise(seq)]\n",
    "plt.plot(seq)\n",
    "# seq = [i for i in df['p2_points_won'].values()]\n",
    "\n",
    "result = adfuller(seq, autolag='AIC')\n",
    "print(\"\\nresult is\\n{}\".format(result))\n",
    "\n",
    "result_fromat = pd.Series(result[0:4], index=['Test Statistic','p-value','Lags Used','Number of Observations Used'])\n",
    "for k, v in result[4].items():\n",
    "    result_fromat['Critical Value (%s)' % k] = v\n",
    "result_fromat['The maximized information criterion if autolag is not None.'] = result[5]\n",
    "print(\"\\nresult_fromat is\\n{}\".format(result_fromat))\n",
    "\n",
    "print(\"\\n\\n===== adfuller()的回归模型系数 =====\")\n",
    "[t, p, c, r] = adfuller(x=seq, regression='ctt', regresults=True)\n",
    "\n",
    "print(\"r.resols.summary() is\")\n",
    "print(r.resols.summary())\n",
    "\n",
    "print(\"\\nr.resols.params are\")\n",
    "print(r.resols.params)"
   ]
  },
  {
   "cell_type": "code",
   "execution_count": null,
   "metadata": {},
   "outputs": [],
   "source": []
  },
  {
   "cell_type": "code",
   "execution_count": null,
   "metadata": {},
   "outputs": [],
   "source": []
  }
 ],
 "metadata": {
  "kernelspec": {
   "display_name": ".env",
   "language": "python",
   "name": "python3"
  },
  "language_info": {
   "codemirror_mode": {
    "name": "ipython",
    "version": 3
   },
   "file_extension": ".py",
   "mimetype": "text/x-python",
   "name": "python",
   "nbconvert_exporter": "python",
   "pygments_lexer": "ipython3",
   "version": "3.11.3"
  }
 },
 "nbformat": 4,
 "nbformat_minor": 2
}
